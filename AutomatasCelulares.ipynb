{
  "nbformat": 4,
  "nbformat_minor": 0,
  "metadata": {
    "colab": {
      "provenance": []
    },
    "kernelspec": {
      "name": "python3",
      "display_name": "Python 3"
    },
    "language_info": {
      "name": "python"
    },
    "widgets": {
      "application/vnd.jupyter.widget-state+json": {
        "2dfa6bc51f17432ba17820fef058d485": {
          "model_module": "@jupyter-widgets/controls",
          "model_name": "ImageModel",
          "model_module_version": "1.5.0",
          "state": {
            "_dom_classes": [],
            "_model_module": "@jupyter-widgets/controls",
            "_model_module_version": "1.5.0",
            "_model_name": "ImageModel",
            "_view_count": null,
            "_view_module": "@jupyter-widgets/controls",
            "_view_module_version": "1.5.0",
            "_view_name": "ImageView",
            "format": "png",
            "height": "",
            "layout": "IPY_MODEL_7ba39beaed274159aaa1c3aa30777e7e",
            "width": ""
          }
        },
        "7ba39beaed274159aaa1c3aa30777e7e": {
          "model_module": "@jupyter-widgets/base",
          "model_name": "LayoutModel",
          "model_module_version": "1.2.0",
          "state": {
            "_model_module": "@jupyter-widgets/base",
            "_model_module_version": "1.2.0",
            "_model_name": "LayoutModel",
            "_view_count": null,
            "_view_module": "@jupyter-widgets/base",
            "_view_module_version": "1.2.0",
            "_view_name": "LayoutView",
            "align_content": null,
            "align_items": null,
            "align_self": null,
            "border": null,
            "bottom": null,
            "display": null,
            "flex": null,
            "flex_flow": null,
            "grid_area": null,
            "grid_auto_columns": null,
            "grid_auto_flow": null,
            "grid_auto_rows": null,
            "grid_column": null,
            "grid_gap": null,
            "grid_row": null,
            "grid_template_areas": null,
            "grid_template_columns": null,
            "grid_template_rows": null,
            "height": null,
            "justify_content": null,
            "justify_items": null,
            "left": null,
            "margin": null,
            "max_height": null,
            "max_width": null,
            "min_height": null,
            "min_width": null,
            "object_fit": null,
            "object_position": null,
            "order": null,
            "overflow": null,
            "overflow_x": null,
            "overflow_y": null,
            "padding": null,
            "right": null,
            "top": null,
            "visibility": null,
            "width": null
          }
        },
        "1a2252a167c64d23b9071e8dd13f64e7": {
          "model_module": "@jupyter-widgets/controls",
          "model_name": "ImageModel",
          "model_module_version": "1.5.0",
          "state": {
            "_dom_classes": [],
            "_model_module": "@jupyter-widgets/controls",
            "_model_module_version": "1.5.0",
            "_model_name": "ImageModel",
            "_view_count": null,
            "_view_module": "@jupyter-widgets/controls",
            "_view_module_version": "1.5.0",
            "_view_name": "ImageView",
            "format": "png",
            "height": "",
            "layout": "IPY_MODEL_1adb1eeb70244d5cb670348feebf0ef7",
            "width": ""
          }
        },
        "1adb1eeb70244d5cb670348feebf0ef7": {
          "model_module": "@jupyter-widgets/base",
          "model_name": "LayoutModel",
          "model_module_version": "1.2.0",
          "state": {
            "_model_module": "@jupyter-widgets/base",
            "_model_module_version": "1.2.0",
            "_model_name": "LayoutModel",
            "_view_count": null,
            "_view_module": "@jupyter-widgets/base",
            "_view_module_version": "1.2.0",
            "_view_name": "LayoutView",
            "align_content": null,
            "align_items": null,
            "align_self": null,
            "border": null,
            "bottom": null,
            "display": null,
            "flex": null,
            "flex_flow": null,
            "grid_area": null,
            "grid_auto_columns": null,
            "grid_auto_flow": null,
            "grid_auto_rows": null,
            "grid_column": null,
            "grid_gap": null,
            "grid_row": null,
            "grid_template_areas": null,
            "grid_template_columns": null,
            "grid_template_rows": null,
            "height": null,
            "justify_content": null,
            "justify_items": null,
            "left": null,
            "margin": null,
            "max_height": null,
            "max_width": null,
            "min_height": null,
            "min_width": null,
            "object_fit": null,
            "object_position": null,
            "order": null,
            "overflow": null,
            "overflow_x": null,
            "overflow_y": null,
            "padding": null,
            "right": null,
            "top": null,
            "visibility": null,
            "width": null
          }
        }
      }
    }
  },
  "cells": [
    {
      "cell_type": "code",
      "execution_count": 1,
      "metadata": {
        "id": "fUOe4ZExjhz6",
        "outputId": "7280baea-0e8f-4bad-dc0a-de0892862da9",
        "colab": {
          "base_uri": "https://localhost:8080/"
        }
      },
      "outputs": [
        {
          "name": "stdout",
          "output_type": "stream",
          "text": [
            "Que regla quieres (Wx) y (WxR)? : 110\n"
          ]
        }
      ],
      "source": [
        "W = int(input('Que regla quieres (Wx) y (WxR)? : '))"
      ]
    },
    {
      "cell_type": "code",
      "source": [
        "import cv2\n",
        "import numpy as np\n",
        "from IPython import display as display\n",
        "import ipywidgets as ipw\n",
        "import PIL\n",
        "from io import BytesIO\n",
        "from random import random\n",
        "N=150\n",
        "\n",
        "cells0=N*[0]\n",
        "cells1=N*[0]\n",
        "cells2=N*[0]\n",
        "\n",
        "for i in range(N):\n",
        "  cells1[i]= 0 if random()>0.5 else 1\n",
        "\n",
        "\n",
        "# Regla \"W algo\"\n",
        "\n",
        "# Se encuentra el numero binario de la regla correspondiente\n",
        "Wx = bin(W).replace('0b','')\n",
        "Wx = (2**3-len(Wx))*'0'+Wx\n",
        "\n",
        "rule = []\n",
        "for x in Wx:\n",
        "  rule.append(int(x))\n",
        "\n",
        "#rule=[0,0,0,1,0,0,1,0]\n",
        "rule=rule[::-1]\n",
        "\n",
        "def apply_rule(left,center,right):\n",
        "  global rule\n",
        "\n",
        "  return rule[right+2*center+4*left]\n",
        "\n",
        "\n",
        "def iteration():\n",
        "  global cells0,cells1,N\n",
        "\n",
        "  for i in range(1,N-1):\n",
        "    cells0[i]=apply_rule(cells1[i-1],cells1[i],cells1[i+1])\n",
        "  \n",
        "  cells1[:]=cells0[:]\n",
        "\n",
        "\n",
        "x0=0\n",
        "y0=0\n",
        "maxX=500\n",
        "maxY=500\n",
        "color=(255,255,255)\n",
        "margin=1\n",
        "stride = (maxX - 2*margin)/N\n",
        "\n",
        "\n",
        "def graph_cells(img,cells):\n",
        "  global x0,y0,maxX,maxY,margin,color,stride,N\n",
        "  r=5\n",
        "  for i in range(N):\n",
        "    if cells[i]:\n",
        "      start=(int(x0+stride*i+margin),int(y0+margin))\n",
        "      end=(int(x0+stride*(i+1)-margin), int(y0+stride-margin))\n",
        "      cv2.rectangle(img,start,end,color,-1)\n",
        "\n",
        "\n",
        "wIm = ipw.Image()\n",
        "display.display(wIm)\n",
        "\n",
        "img = np.zeros((500, 500, 3), dtype=\"uint8\")\n",
        "\n",
        "graph_cells(img,cells1)\n",
        "y0+=stride\n",
        "\n",
        "while y0<=maxY:\n",
        "  iteration()\n",
        "  graph_cells(img,cells0)\n",
        "  y0+=stride\n",
        "\n",
        "pilIm = PIL.Image.fromarray(img, mode=\"RGB\")\n",
        "with BytesIO() as fOut:\n",
        "    pilIm.save(fOut, format=\"png\")\n",
        "    byPng = fOut.getvalue()\n",
        "      \n",
        "# set the png bytes as the image value; \n",
        "# this updates the image in the browser.\n",
        "wIm.value=byPng "
      ],
      "metadata": {
        "id": "Fed_HpIy3kEB",
        "outputId": "760bffcc-aaf6-4bc1-cb18-4a94e6447385",
        "colab": {
          "base_uri": "https://localhost:8080/",
          "height": 525,
          "referenced_widgets": [
            "2dfa6bc51f17432ba17820fef058d485",
            "7ba39beaed274159aaa1c3aa30777e7e"
          ]
        }
      },
      "execution_count": 2,
      "outputs": [
        {
          "output_type": "display_data",
          "data": {
            "text/plain": [
              "Image(value=b'')"
            ],
            "application/vnd.jupyter.widget-view+json": {
              "version_major": 2,
              "version_minor": 0,
              "model_id": "2dfa6bc51f17432ba17820fef058d485"
            }
          },
          "metadata": {}
        }
      ]
    },
    {
      "cell_type": "code",
      "source": [
        "import cv2\n",
        "import numpy as np\n",
        "from IPython import display as display\n",
        "import ipywidgets as ipw\n",
        "import PIL\n",
        "from io import BytesIO\n",
        "from random import random\n",
        "\n",
        "# Se encuentra el numero binario de la regla correspondiente\n",
        "Wx = bin(W).replace('0b','')\n",
        "Wx = (2**3-len(Wx))*'0'+Wx\n",
        "\n",
        "rule = []\n",
        "for x in Wx:\n",
        "  rule.append(int(x))\n",
        "\n",
        "#rule=[0,0,0,1,0,0,1,0]\n",
        "\n",
        "N=150\n",
        "\n",
        "cells0=N*[0]\n",
        "cells1=N*[0]\n",
        "cells2=N*[0]\n",
        "\n",
        "for i in range(N):\n",
        "  cells0[i]= 0 if random()>0.5 else 1\n",
        "  cells1[i]= 0 if random()>0.5 else 1\n",
        "\n",
        "rule=rule[::-1]\n",
        "\n",
        "def apply_rule(left,center,right):\n",
        "  global rule\n",
        "  return rule[right+2*center+4*left]\n",
        "\n",
        "def apply_XOR(i):\n",
        "  a = apply_rule(cells1[i-1],cells1[i],cells1[i+1])\n",
        "  if cells0[i] == a:\n",
        "    return 0\n",
        "  else:\n",
        "    return 1\n",
        "\n",
        "\n",
        "def iteration():\n",
        "  global cells0,cells1,N\n",
        "\n",
        "  for i in range(1,N-1):\n",
        "    cells2[i]=apply_XOR(i)\n",
        "  \n",
        "  cells0[:]=cells1[:]\n",
        "  cells1[:]=cells2[:]\n",
        "\n",
        "x0=0\n",
        "y0=0\n",
        "maxX=500\n",
        "maxY=500\n",
        "color=(255,255,255)\n",
        "margin=1\n",
        "stride = (maxX - 2*margin)/N\n",
        "\n",
        "\n",
        "def graph_cells(img,cells):\n",
        "  global x0,y0,maxX,maxY,margin,color,stride,N\n",
        "  r=5\n",
        "  for i in range(N):\n",
        "    if cells[i]:\n",
        "      start=(int(x0+stride*i+margin),int(y0+margin))\n",
        "      end=(int(x0+stride*(i+1)-margin), int(y0+stride-margin))\n",
        "      cv2.rectangle(img,start,end,color,-1)\n",
        "\n",
        "\n",
        "wIm = ipw.Image()\n",
        "display.display(wIm)\n",
        "\n",
        "img = np.zeros((500, 500, 3), dtype=\"uint8\")\n",
        "\n",
        "graph_cells(img,cells1)\n",
        "y0+=stride\n",
        "\n",
        "while y0<=maxY:\n",
        "  iteration()\n",
        "  graph_cells(img,cells2)\n",
        "  y0+=stride\n",
        "\n",
        "pilIm = PIL.Image.fromarray(img, mode=\"RGB\")\n",
        "with BytesIO() as fOut:\n",
        "    pilIm.save(fOut, format=\"png\")\n",
        "    byPng = fOut.getvalue()\n",
        "      \n",
        "wIm.value=byPng "
      ],
      "metadata": {
        "id": "3wQGa8NqRzNr",
        "outputId": "74c60849-1342-4c24-cdc1-12ad089bd481",
        "colab": {
          "base_uri": "https://localhost:8080/",
          "height": 525,
          "referenced_widgets": [
            "1a2252a167c64d23b9071e8dd13f64e7",
            "1adb1eeb70244d5cb670348feebf0ef7"
          ]
        }
      },
      "execution_count": 3,
      "outputs": [
        {
          "output_type": "display_data",
          "data": {
            "text/plain": [
              "Image(value=b'')"
            ],
            "application/vnd.jupyter.widget-view+json": {
              "version_major": 2,
              "version_minor": 0,
              "model_id": "1a2252a167c64d23b9071e8dd13f64e7"
            }
          },
          "metadata": {}
        }
      ]
    }
  ]
}